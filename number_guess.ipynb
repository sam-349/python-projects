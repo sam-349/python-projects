{
 "cells": [
  {
   "cell_type": "code",
   "execution_count": 2,
   "metadata": {},
   "outputs": [
    {
     "name": "stdout",
     "output_type": "stream",
     "text": [
      "Sorry, guess again,6 Too high\n",
      "Sorry, guess again,3 Too low\n",
      "Sorry, guess again,4 Too low\n",
      "Wow!, Congrats You guessed correctly.\n"
     ]
    }
   ],
   "source": [
    "import random\n",
    "\n",
    "def guess(x):\n",
    "    random_number = random.randint(1, x)\n",
    "    guess = 0\n",
    "    while guess != random_number:\n",
    "        guess = int(input(f\"Enter a number ranging 1 to {x}\"))\n",
    "        if guess < random_number:\n",
    "            print(f'Sorry, guess again,{guess} Too low')\n",
    "\n",
    "        elif guess > random_number:\n",
    "            print(f'Sorry, guess again,{guess} Too high')\n",
    "    print('Wow!, Congrats You guessed correctly.')\n",
    "\n",
    "guess(10)\n"
   ]
  },
  {
   "cell_type": "code",
   "execution_count": 3,
   "metadata": {},
   "outputs": [
    {
     "name": "stdout",
     "output_type": "stream",
     "text": [
      "Hurray! The computer Guessed correctly! 4000\n"
     ]
    }
   ],
   "source": [
    "def computer_guess(x):\n",
    "    low = 1\n",
    "    high = x\n",
    "    feedback = ''\n",
    "\n",
    "    while feedback != 'c':\n",
    "        if low != high:\n",
    "            guess = random.randint(low, high)\n",
    "        else:\n",
    "            guess = low\n",
    "        feedback = input(f\"is {guess} is Too high (H), Too low(L) or correct (C).\")\n",
    "        if feedback == 'h':\n",
    "            high = guess- 1\n",
    "        elif feedback == 'l':\n",
    "            low = guess + 1\n",
    "    print(f\"Hurray! The computer Guessed correctly! {guess}\")\n",
    "\n",
    "computer_guess(10000)"
   ]
  },
  {
   "cell_type": "code",
   "execution_count": null,
   "metadata": {},
   "outputs": [],
   "source": []
  }
 ],
 "metadata": {
  "kernelspec": {
   "display_name": "Python 3",
   "language": "python",
   "name": "python3"
  },
  "language_info": {
   "codemirror_mode": {
    "name": "ipython",
    "version": 3
   },
   "file_extension": ".py",
   "mimetype": "text/x-python",
   "name": "python",
   "nbconvert_exporter": "python",
   "pygments_lexer": "ipython3",
   "version": "3.10.11"
  },
  "orig_nbformat": 4
 },
 "nbformat": 4,
 "nbformat_minor": 2
}
